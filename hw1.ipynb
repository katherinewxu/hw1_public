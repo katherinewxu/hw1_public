{
 "cells": [
  {
   "cell_type": "code",
   "execution_count": 4,
   "id": "a6498506",
   "metadata": {},
   "outputs": [],
   "source": [
    "\"\"\"\n",
    "CS 281. Homework 1 2024. Machine Bias\n",
    "\n",
    "Your code will go into this file. You can include your responses to the free-form questions in this jupyter notebook, or in a separate file you include in the submitted zip file.\n",
    "\"\"\"\n",
    "from matplotlib import pyplot as plt\n",
    "import numpy as np\n",
    "import pandas as pd\n",
    "import sklearn\n",
    "import seaborn as sns\n"
   ]
  },
  {
   "cell_type": "markdown",
   "id": "463929a9",
   "metadata": {},
   "source": [
    "## A. Machine Bias (6 points)\n",
    "\n",
    "\n",
    "### A1. \n",
    "\n",
    "### A2. \n",
    "\n",
    "### A3."
   ]
  },
  {
   "cell_type": "markdown",
   "id": "e3e9970a",
   "metadata": {},
   "source": [
    "## B. Broward County dataset (17 points)"
   ]
  },
  {
   "cell_type": "code",
   "execution_count": 5,
   "id": "80f9a333",
   "metadata": {},
   "outputs": [
    {
     "name": "stdout",
     "output_type": "stream",
     "text": [
      "Num rows: 7214\n",
      "Index(['id', 'name', 'first', 'last', 'compas_screening_date', 'sex', 'dob',\n",
      "       'age', 'age_cat', 'race', 'juv_fel_count', 'decile_score',\n",
      "       'juv_misd_count', 'juv_other_count', 'priors_count',\n",
      "       'days_b_screening_arrest', 'c_jail_in', 'c_jail_out', 'c_case_number',\n",
      "       'c_offense_date', 'c_arrest_date', 'c_days_from_compas',\n",
      "       'c_charge_degree', 'c_charge_desc', 'is_recid', 'r_case_number',\n",
      "       'r_charge_degree', 'r_days_from_arrest', 'r_offense_date',\n",
      "       'r_charge_desc', 'r_jail_in', 'r_jail_out', 'violent_recid',\n",
      "       'is_violent_recid', 'vr_case_number', 'vr_charge_degree',\n",
      "       'vr_offense_date', 'vr_charge_desc', 'type_of_assessment',\n",
      "       'decile_score.1', 'score_text', 'screening_date',\n",
      "       'v_type_of_assessment', 'v_decile_score', 'v_score_text',\n",
      "       'v_screening_date', 'in_custody', 'out_custody', 'priors_count.1',\n",
      "       'start', 'end', 'event', 'two_year_recid'],\n",
      "      dtype='object')\n"
     ]
    },
    {
     "data": {
      "text/html": [
       "<div>\n",
       "<style scoped>\n",
       "    .dataframe tbody tr th:only-of-type {\n",
       "        vertical-align: middle;\n",
       "    }\n",
       "\n",
       "    .dataframe tbody tr th {\n",
       "        vertical-align: top;\n",
       "    }\n",
       "\n",
       "    .dataframe thead th {\n",
       "        text-align: right;\n",
       "    }\n",
       "</style>\n",
       "<table border=\"1\" class=\"dataframe\">\n",
       "  <thead>\n",
       "    <tr style=\"text-align: right;\">\n",
       "      <th></th>\n",
       "      <th>id</th>\n",
       "      <th>name</th>\n",
       "      <th>first</th>\n",
       "      <th>last</th>\n",
       "      <th>compas_screening_date</th>\n",
       "      <th>sex</th>\n",
       "      <th>dob</th>\n",
       "      <th>age</th>\n",
       "      <th>age_cat</th>\n",
       "      <th>race</th>\n",
       "      <th>...</th>\n",
       "      <th>v_decile_score</th>\n",
       "      <th>v_score_text</th>\n",
       "      <th>v_screening_date</th>\n",
       "      <th>in_custody</th>\n",
       "      <th>out_custody</th>\n",
       "      <th>priors_count.1</th>\n",
       "      <th>start</th>\n",
       "      <th>end</th>\n",
       "      <th>event</th>\n",
       "      <th>two_year_recid</th>\n",
       "    </tr>\n",
       "  </thead>\n",
       "  <tbody>\n",
       "    <tr>\n",
       "      <th>0</th>\n",
       "      <td>1</td>\n",
       "      <td>miguel hernandez</td>\n",
       "      <td>miguel</td>\n",
       "      <td>hernandez</td>\n",
       "      <td>2013-08-14</td>\n",
       "      <td>Male</td>\n",
       "      <td>1947-04-18</td>\n",
       "      <td>69</td>\n",
       "      <td>Greater than 45</td>\n",
       "      <td>Other</td>\n",
       "      <td>...</td>\n",
       "      <td>1</td>\n",
       "      <td>Low</td>\n",
       "      <td>2013-08-14</td>\n",
       "      <td>2014-07-07</td>\n",
       "      <td>2014-07-14</td>\n",
       "      <td>0</td>\n",
       "      <td>0</td>\n",
       "      <td>327</td>\n",
       "      <td>0</td>\n",
       "      <td>0</td>\n",
       "    </tr>\n",
       "    <tr>\n",
       "      <th>1</th>\n",
       "      <td>3</td>\n",
       "      <td>kevon dixon</td>\n",
       "      <td>kevon</td>\n",
       "      <td>dixon</td>\n",
       "      <td>2013-01-27</td>\n",
       "      <td>Male</td>\n",
       "      <td>1982-01-22</td>\n",
       "      <td>34</td>\n",
       "      <td>25 - 45</td>\n",
       "      <td>African-American</td>\n",
       "      <td>...</td>\n",
       "      <td>1</td>\n",
       "      <td>Low</td>\n",
       "      <td>2013-01-27</td>\n",
       "      <td>2013-01-26</td>\n",
       "      <td>2013-02-05</td>\n",
       "      <td>0</td>\n",
       "      <td>9</td>\n",
       "      <td>159</td>\n",
       "      <td>1</td>\n",
       "      <td>1</td>\n",
       "    </tr>\n",
       "    <tr>\n",
       "      <th>2</th>\n",
       "      <td>4</td>\n",
       "      <td>ed philo</td>\n",
       "      <td>ed</td>\n",
       "      <td>philo</td>\n",
       "      <td>2013-04-14</td>\n",
       "      <td>Male</td>\n",
       "      <td>1991-05-14</td>\n",
       "      <td>24</td>\n",
       "      <td>Less than 25</td>\n",
       "      <td>African-American</td>\n",
       "      <td>...</td>\n",
       "      <td>3</td>\n",
       "      <td>Low</td>\n",
       "      <td>2013-04-14</td>\n",
       "      <td>2013-06-16</td>\n",
       "      <td>2013-06-16</td>\n",
       "      <td>4</td>\n",
       "      <td>0</td>\n",
       "      <td>63</td>\n",
       "      <td>0</td>\n",
       "      <td>1</td>\n",
       "    </tr>\n",
       "    <tr>\n",
       "      <th>3</th>\n",
       "      <td>5</td>\n",
       "      <td>marcu brown</td>\n",
       "      <td>marcu</td>\n",
       "      <td>brown</td>\n",
       "      <td>2013-01-13</td>\n",
       "      <td>Male</td>\n",
       "      <td>1993-01-21</td>\n",
       "      <td>23</td>\n",
       "      <td>Less than 25</td>\n",
       "      <td>African-American</td>\n",
       "      <td>...</td>\n",
       "      <td>6</td>\n",
       "      <td>Medium</td>\n",
       "      <td>2013-01-13</td>\n",
       "      <td>NaN</td>\n",
       "      <td>NaN</td>\n",
       "      <td>1</td>\n",
       "      <td>0</td>\n",
       "      <td>1174</td>\n",
       "      <td>0</td>\n",
       "      <td>0</td>\n",
       "    </tr>\n",
       "    <tr>\n",
       "      <th>4</th>\n",
       "      <td>6</td>\n",
       "      <td>bouthy pierrelouis</td>\n",
       "      <td>bouthy</td>\n",
       "      <td>pierrelouis</td>\n",
       "      <td>2013-03-26</td>\n",
       "      <td>Male</td>\n",
       "      <td>1973-01-22</td>\n",
       "      <td>43</td>\n",
       "      <td>25 - 45</td>\n",
       "      <td>Other</td>\n",
       "      <td>...</td>\n",
       "      <td>1</td>\n",
       "      <td>Low</td>\n",
       "      <td>2013-03-26</td>\n",
       "      <td>NaN</td>\n",
       "      <td>NaN</td>\n",
       "      <td>2</td>\n",
       "      <td>0</td>\n",
       "      <td>1102</td>\n",
       "      <td>0</td>\n",
       "      <td>0</td>\n",
       "    </tr>\n",
       "  </tbody>\n",
       "</table>\n",
       "<p>5 rows × 53 columns</p>\n",
       "</div>"
      ],
      "text/plain": [
       "   id                name   first         last compas_screening_date   sex  \\\n",
       "0   1    miguel hernandez  miguel    hernandez            2013-08-14  Male   \n",
       "1   3         kevon dixon   kevon        dixon            2013-01-27  Male   \n",
       "2   4            ed philo      ed        philo            2013-04-14  Male   \n",
       "3   5         marcu brown   marcu        brown            2013-01-13  Male   \n",
       "4   6  bouthy pierrelouis  bouthy  pierrelouis            2013-03-26  Male   \n",
       "\n",
       "          dob  age          age_cat              race  ...  v_decile_score  \\\n",
       "0  1947-04-18   69  Greater than 45             Other  ...               1   \n",
       "1  1982-01-22   34          25 - 45  African-American  ...               1   \n",
       "2  1991-05-14   24     Less than 25  African-American  ...               3   \n",
       "3  1993-01-21   23     Less than 25  African-American  ...               6   \n",
       "4  1973-01-22   43          25 - 45             Other  ...               1   \n",
       "\n",
       "   v_score_text  v_screening_date  in_custody  out_custody  priors_count.1  \\\n",
       "0           Low        2013-08-14  2014-07-07   2014-07-14               0   \n",
       "1           Low        2013-01-27  2013-01-26   2013-02-05               0   \n",
       "2           Low        2013-04-14  2013-06-16   2013-06-16               4   \n",
       "3        Medium        2013-01-13         NaN          NaN               1   \n",
       "4           Low        2013-03-26         NaN          NaN               2   \n",
       "\n",
       "  start   end event two_year_recid  \n",
       "0     0   327     0              0  \n",
       "1     9   159     1              1  \n",
       "2     0    63     0              1  \n",
       "3     0  1174     0              0  \n",
       "4     0  1102     0              0  \n",
       "\n",
       "[5 rows x 53 columns]"
      ]
     },
     "execution_count": 5,
     "metadata": {},
     "output_type": "execute_result"
    }
   ],
   "source": [
    "## Load the COMPAS Dataset\n",
    "raw_data = pd.read_csv('compas-scores-two-years.csv')\n",
    "print('Num rows: %d' % len(raw_data))\n",
    "\n",
    "# what are the column names? What do they mean?\n",
    "print(raw_data.columns)\n",
    "\n",
    "## browse it\n",
    "raw_data.head()\n",
    "\n"
   ]
  },
  {
   "cell_type": "markdown",
   "id": "9aa6c70e",
   "metadata": {},
   "source": [
    "### B1. Pre-processing\n"
   ]
  },
  {
   "cell_type": "code",
   "execution_count": 3,
   "id": "c1de628d",
   "metadata": {},
   "outputs": [],
   "source": [
    "# ## Apply the filtering described in question B.1 of hw1.pdf.\n",
    "# ## df should be a pandas.DataFrame object\n",
    "\n",
    "df =\n",
    "print('Q1: Num data points after filtering: %d' % len(df))"
   ]
  },
  {
   "cell_type": "markdown",
   "id": "ebf2f51a",
   "metadata": {},
   "source": [
    "### B2. Demographics"
   ]
  },
  {
   "cell_type": "code",
   "execution_count": null,
   "id": "7d286836",
   "metadata": {},
   "outputs": [],
   "source": [
    "## Count the number of individuals across racial identities, age categories and\n",
    "# binary sex categories. Report your numbers.\n"
   ]
  },
  {
   "cell_type": "markdown",
   "id": "ed86c51e",
   "metadata": {},
   "source": [
    "### B3. Distribution of COMPAS scores\n"
   ]
  },
  {
   "cell_type": "code",
   "execution_count": null,
   "id": "4838b676",
   "metadata": {},
   "outputs": [],
   "source": [
    "# a. Plot the distribution of scores for all individuals (a single histogram)\n",
    "\n",
    "# b. Plot the distribution of scores for (four separate histograms): \n",
    "# Black women, white women, Black men, white men\n",
    "\n",
    "# c. Repeat the plots, this time using stacked bars: color-coding the proportion\n",
    "# of each bar corresponding to individuals who did vs did not recidivate \n",
    "# (two_year_recid == 0 in one color, two_year_recid == 1 in another).\n",
    "# Hint: find pointers for creating stacked bars here https://www.pythoncharts.com/python/stacked-bar-charts/\n"
   ]
  },
  {
   "cell_type": "markdown",
   "id": "110315df",
   "metadata": {},
   "source": [
    "### B4. Reflection point. \n",
    "#### a. \n",
    "\n",
    "#### b. \n",
    "\n",
    "#### c. \n",
    "\n",
    "#### d. "
   ]
  },
  {
   "cell_type": "markdown",
   "id": "9b2903d5",
   "metadata": {},
   "source": [
    "## C. Fairness metrics of COMPAS scores\n",
    "\n",
    "For consistency with ProPublica’s analysis, we will assume that the decision threshold is at COMPAS risk 5 - in other words, that all individuals in the low risk category are recommended for release (d=0), but all individuals in the medium and high risk categories are not (d=1). \n",
    "\n",
    "Hint: add a binary column to your data frame that corresponds to this binary decision.\n"
   ]
  },
  {
   "cell_type": "markdown",
   "id": "d49cd98e",
   "metadata": {},
   "source": [
    "### C1. Intuition behind fairness metrics"
   ]
  },
  {
   "cell_type": "markdown",
   "id": "f46c5137",
   "metadata": {},
   "source": [
    "#### a.\n",
    "\n",
    "| Metric Name      | Statistical property | If this metric is satisfied, we can be sure that |\n",
    "| ----------- | ----------- | ----------- |\n",
    "| Independence        | $$ $$       |  |\n",
    "| Separation - FNR    | $$ $$         |        |\n",
    "| Separation - FPR    | $$ $$         |  \n",
    "| Sufficiency - PPR   | $$ $$        |    |"
   ]
  },
  {
   "cell_type": "markdown",
   "id": "153ad09d",
   "metadata": {},
   "source": [
    "#### b. "
   ]
  },
  {
   "cell_type": "markdown",
   "id": "43df5911",
   "metadata": {},
   "source": [
    "### C2. Calculations\n",
    "For each of the following fairness metrics, calculate the appropriate statistic for 5 variants of the data: (1) all individuals, (2) Black women, (3) white women, (4) Black men, (5) white men. Assume the decision threshold of 5 in all cases except for sufficiency (using decile scores).\n",
    "\n",
    "* Independence.\n",
    "* Separation - false negative rate\n",
    "* Separation - false positive rate\n",
    "* Sufficiency - using decile scores\n",
    "* Sufficiency - using binary decisions\n"
   ]
  },
  {
   "cell_type": "markdown",
   "id": "e28a4fa4",
   "metadata": {},
   "source": [
    "#### Independence"
   ]
  },
  {
   "cell_type": "code",
   "execution_count": null,
   "id": "0b2b818b",
   "metadata": {},
   "outputs": [],
   "source": []
  },
  {
   "cell_type": "markdown",
   "id": "338961f5",
   "metadata": {},
   "source": [
    "#### Separation - false negative rate"
   ]
  },
  {
   "cell_type": "code",
   "execution_count": null,
   "id": "d02f21f2",
   "metadata": {},
   "outputs": [],
   "source": []
  },
  {
   "cell_type": "markdown",
   "id": "5dab65e8",
   "metadata": {},
   "source": [
    "#### Separation - false positive rate"
   ]
  },
  {
   "cell_type": "code",
   "execution_count": null,
   "id": "57f6bb09",
   "metadata": {},
   "outputs": [],
   "source": []
  },
  {
   "cell_type": "markdown",
   "id": "87e6406d",
   "metadata": {},
   "source": [
    "#### Sufficiency - using decile scores"
   ]
  },
  {
   "cell_type": "code",
   "execution_count": null,
   "id": "04a7646c",
   "metadata": {},
   "outputs": [],
   "source": []
  },
  {
   "cell_type": "markdown",
   "id": "faeb4129",
   "metadata": {},
   "source": [
    "#### Sufficiency - using binary decisions"
   ]
  },
  {
   "cell_type": "code",
   "execution_count": null,
   "id": "49e254c8",
   "metadata": {},
   "outputs": [],
   "source": []
  },
  {
   "cell_type": "markdown",
   "id": "9eb55406",
   "metadata": {},
   "source": [
    "### C3. Interpretation. \n",
    "Given your interpretation of the fairness metrics in the previous section, what do the results reveal about the potential consequences of using the algorithm for the considered groups? Give 1-2 sentences for each fairness metric, focusing on groups whose results differ most from the metrics calculated for the overall population.\n",
    "\n",
    "\n",
    "a. Independence.\n",
    "\n",
    "\n",
    "\n",
    "b.  Separation\n",
    "\n",
    "    i. false negative rate\n",
    "\n",
    "    \n",
    "    ii. false positive rate\n",
    "\n",
    "\n",
    "\n",
    "c. Sufficiency (positive predictive value)\n",
    "\n",
    "    i. using decile scores \n",
    "    \n",
    "    ii. using binary decisions"
   ]
  },
  {
   "cell_type": "markdown",
   "id": "3d60401a",
   "metadata": {},
   "source": [
    "## D. Final reflection point (9 points)\n",
    "Please respond to the following questions (2-3 sentences or bullet points each).\n",
    "\n",
    "### D1. \n",
    "\n",
    "### D2.\n",
    "\n",
    "\n",
    "### D3. "
   ]
  },
  {
   "cell_type": "markdown",
   "id": "23920082",
   "metadata": {},
   "source": []
  }
 ],
 "metadata": {
  "kernelspec": {
   "display_name": "Python 3 (ipykernel)",
   "language": "python",
   "name": "python3"
  },
  "language_info": {
   "codemirror_mode": {
    "name": "ipython",
    "version": 3
   },
   "file_extension": ".py",
   "mimetype": "text/x-python",
   "name": "python",
   "nbconvert_exporter": "python",
   "pygments_lexer": "ipython3",
   "version": "3.8.20"
  }
 },
 "nbformat": 4,
 "nbformat_minor": 5
}

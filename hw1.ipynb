{
 "cells": [
  {
   "cell_type": "code",
   "execution_count": null,
   "id": "a6498506",
   "metadata": {},
   "outputs": [],
   "source": [
    "\"\"\"\n",
    "CS 281. Homework 1 2024. Machine Bias\n",
    "\n",
    "Your code will go into this file. You can include your responses to the free-form questions in this jupyter notebook, or in a separate file you include in the submitted zip file.\n",
    "\"\"\"\n",
    "from matplotlib import pyplot as plt\n",
    "import numpy as np\n",
    "import pandas as pd\n",
    "import sklearn\n",
    "import seaborn as sns\n"
   ]
  },
  {
   "cell_type": "markdown",
   "id": "e3e9970a",
   "metadata": {},
   "source": [
    "## Broward County dataset"
   ]
  },
  {
   "cell_type": "code",
   "execution_count": null,
   "id": "80f9a333",
   "metadata": {},
   "outputs": [],
   "source": [
    "## Load the COMPAS Dataset\n",
    "raw_data = pd.read_csv('compas-scores-two-years.csv')\n",
    "print('Num rows: %d' % len(raw_data))\n",
    "\n",
    "# what are the column names? What do they mean?\n",
    "print(raw_data.columns)\n",
    "\n",
    "## browse it\n",
    "raw_data.head()\n",
    "\n"
   ]
  },
  {
   "cell_type": "markdown",
   "id": "9aa6c70e",
   "metadata": {},
   "source": [
    "### 1. Pre-processing\n"
   ]
  },
  {
   "cell_type": "code",
   "execution_count": null,
   "id": "c1de628d",
   "metadata": {},
   "outputs": [],
   "source": [
    "## Filter out corrupted rows from raw_data and store in a variable name \"df\"\n",
    "## df should be a pandas.DataFrame object\n",
    "\n",
    "df =\n",
    "print('Q1: Num data points after filtering: %d' % len(df))"
   ]
  },
  {
   "cell_type": "markdown",
   "id": "ebf2f51a",
   "metadata": {},
   "source": [
    "### 2. Demographics"
   ]
  },
  {
   "cell_type": "code",
   "execution_count": null,
   "id": "7d286836",
   "metadata": {},
   "outputs": [],
   "source": [
    "## Count the number of individuals across racial identities, age categories and\n",
    "# binary sex categories. Report your numbers.\n"
   ]
  },
  {
   "cell_type": "markdown",
   "id": "ed86c51e",
   "metadata": {},
   "source": [
    "### 3. Distribution of COMPAS scores\n"
   ]
  },
  {
   "cell_type": "code",
   "execution_count": null,
   "id": "4838b676",
   "metadata": {},
   "outputs": [],
   "source": [
    "# a. Plot the distribution of scores as a bar chart for all individuals\n",
    "\n",
    "# b. Plot the distribution of scores as a bar chart for four groups: \n",
    "# Black women, white women, Black men, white men\n",
    "\n",
    "# c. Repeat the plots, this time using stacked bars: color-coding the proportion\n",
    "# of each bar corresponding to individuals who did vs did not recidivate \n",
    "# (two_year_recid == 0 in one color, two_year_recid == 1 in another).\n",
    "# Hint: find pointers for creating stacked bars here https://www.pythoncharts.com/python/stacked-bar-charts/\n"
   ]
  },
  {
   "cell_type": "markdown",
   "id": "9b2903d5",
   "metadata": {},
   "source": [
    "## Fairness metrics of COMPAS scores\n",
    "\n",
    "For consistency with ProPublica’s analysis, we will assume that the decision threshold is at COMPAS risk 5 - in other words, that all individuals in the low risk category are recommended for release (d=0), but all individuals in the medium and high risk categories are not (d=1). \n",
    "\n",
    "Hint: add a binary column to your data frame that corresponds to this binary decision.\n"
   ]
  },
  {
   "cell_type": "code",
   "execution_count": null,
   "id": "3134a449",
   "metadata": {},
   "outputs": [],
   "source": []
  },
  {
   "cell_type": "markdown",
   "id": "43df5911",
   "metadata": {},
   "source": [
    "### Calculations\n",
    "For each of the following fairness metrics, calculate the appropriate statistic for 5 variants of the data: (1) all individuals, (2) Black women, (3) white women, (4) Black men, (5) white men. Assume the decision threshold of 5 in all cases except for sufficiency (using decile scores).\n",
    "\n",
    "* Independence.\n",
    "* Separation - false negative rate\n",
    "* Separation - false positive rate\n",
    "* Sufficiency - using decile scores\n",
    "* Sufficiency - using binary decisions\n"
   ]
  },
  {
   "cell_type": "markdown",
   "id": "e28a4fa4",
   "metadata": {},
   "source": [
    "#### Independence"
   ]
  },
  {
   "cell_type": "code",
   "execution_count": null,
   "id": "0b2b818b",
   "metadata": {},
   "outputs": [],
   "source": []
  },
  {
   "cell_type": "markdown",
   "id": "338961f5",
   "metadata": {},
   "source": [
    "#### Separation - false negative rate"
   ]
  },
  {
   "cell_type": "code",
   "execution_count": null,
   "id": "d02f21f2",
   "metadata": {},
   "outputs": [],
   "source": []
  },
  {
   "cell_type": "markdown",
   "id": "5dab65e8",
   "metadata": {},
   "source": [
    "#### Separation - false positive rate"
   ]
  },
  {
   "cell_type": "code",
   "execution_count": null,
   "id": "57f6bb09",
   "metadata": {},
   "outputs": [],
   "source": []
  },
  {
   "cell_type": "markdown",
   "id": "87e6406d",
   "metadata": {},
   "source": [
    "#### Sufficiency - using decile scores"
   ]
  },
  {
   "cell_type": "code",
   "execution_count": null,
   "id": "04a7646c",
   "metadata": {},
   "outputs": [],
   "source": []
  },
  {
   "cell_type": "markdown",
   "id": "faeb4129",
   "metadata": {},
   "source": [
    "#### Sufficiency - using binary decisions"
   ]
  },
  {
   "cell_type": "code",
   "execution_count": null,
   "id": "49e254c8",
   "metadata": {},
   "outputs": [],
   "source": []
  }
 ],
 "metadata": {
  "kernelspec": {
   "display_name": "Python 3 (ipykernel)",
   "language": "python",
   "name": "python3"
  },
  "language_info": {
   "codemirror_mode": {
    "name": "ipython",
    "version": 3
   },
   "file_extension": ".py",
   "mimetype": "text/x-python",
   "name": "python",
   "nbconvert_exporter": "python",
   "pygments_lexer": "ipython3",
   "version": "3.8.19"
  }
 },
 "nbformat": 4,
 "nbformat_minor": 5
}
